{
 "cells": [
  {
   "cell_type": "markdown",
   "metadata": {},
   "source": [
    "# Class Generator Initiation"
   ]
  },
  {
   "cell_type": "code",
   "execution_count": 48,
   "metadata": {},
   "outputs": [],
   "source": [
    "class Generator:\n",
    "    #Class Variables (attributes)\n",
    "    \n",
    "    #Instance Variables (attributes)\n",
    "    def __init__(self, number, power, fail_chance, state, button, limit_switch, transient_time):\n",
    "        self.number = number\n",
    "        self.power = power\n",
    "        self.fail_chance = fail_chance\n",
    "        self.state = state\n",
    "        self.button = button\n",
    "        self.limit_switch = limit_switch\n",
    "        self.transient_time = transient_time\n",
    "    #Methods\n",
    "    def lights(self):\n",
    "        print(\"Generator\",self.number,\"light has been changed to state\",self.state)\n",
    "    def changeState(self,state):\n",
    "        self.state=state\n",
    "        print(\"State changed to\", state)"
   ]
  },
  {
   "cell_type": "markdown",
   "metadata": {},
   "source": [
    "# Generator Object Creation"
   ]
  },
  {
   "cell_type": "code",
   "execution_count": 49,
   "metadata": {},
   "outputs": [],
   "source": [
    "gen1=Generator(number=1,power=1,fail_chance=0.1,state=\"Offline\",button=0,limit_switch=0,transient_time=1)\n",
    "gen2=Generator(number=2,power=2,fail_chance=0.1,state=\"Offline\",button=0,limit_switch=0,transient_time=2)\n",
    "gen3=Generator(number=3,power=3,fail_chance=0.1,state=\"Offline\",button=0,limit_switch=0,transient_time=3)\n",
    "gen4=Generator(number=4,power=5,fail_chance=0.1,state=\"Offline\",button=0,limit_switch=0,transient_time=4)\n",
    "gen5=Generator(number=5,power=7,fail_chance=0.1,state=\"Offline\",button=0,limit_switch=0,transient_time=5)\n",
    "gen6=Generator(number=6,power=12,fail_chance=0.1,state=\"Offline\",button=0,limit_switch=0,transient_time=6)"
   ]
  },
  {
   "cell_type": "markdown",
   "metadata": {},
   "source": [
    "# Object Attribute Test"
   ]
  },
  {
   "cell_type": "code",
   "execution_count": 50,
   "metadata": {},
   "outputs": [
    {
     "data": {
      "text/plain": [
       "1"
      ]
     },
     "execution_count": 50,
     "metadata": {},
     "output_type": "execute_result"
    }
   ],
   "source": [
    "gen1.power"
   ]
  },
  {
   "cell_type": "code",
   "execution_count": 51,
   "metadata": {
    "scrolled": false
   },
   "outputs": [
    {
     "name": "stdout",
     "output_type": "stream",
     "text": [
      "Generator 1 light has been changed to state Offline\n"
     ]
    }
   ],
   "source": [
    "gen1.lights()"
   ]
  },
  {
   "cell_type": "code",
   "execution_count": 52,
   "metadata": {},
   "outputs": [
    {
     "name": "stdout",
     "output_type": "stream",
     "text": [
      "Generator 2 light has been changed to state Offline\n"
     ]
    }
   ],
   "source": [
    "gen2.lights()"
   ]
  },
  {
   "cell_type": "markdown",
   "metadata": {},
   "source": [
    "# "
   ]
  }
 ],
 "metadata": {
  "kernelspec": {
   "display_name": "Python 3",
   "language": "python",
   "name": "python3"
  },
  "language_info": {
   "codemirror_mode": {
    "name": "ipython",
    "version": 3
   },
   "file_extension": ".py",
   "mimetype": "text/x-python",
   "name": "python",
   "nbconvert_exporter": "python",
   "pygments_lexer": "ipython3",
   "version": "3.7.3"
  }
 },
 "nbformat": 4,
 "nbformat_minor": 2
}
